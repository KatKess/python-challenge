{
 "cells": [
  {
   "cell_type": "code",
   "execution_count": 1,
   "id": "1b64294c",
   "metadata": {},
   "outputs": [],
   "source": [
    "import os\n",
    "import csv\n",
    "\n",
    "# set path for csv file to be read\n",
    "csvpath = os.path.join(\"Resources\", \"election_data.csv\")\n"
   ]
  },
  {
   "cell_type": "code",
   "execution_count": 2,
   "id": "24ce60e6",
   "metadata": {},
   "outputs": [],
   "source": [
    "# create totalVotes counter and winner var\n",
    "Total_Votes = 0\n",
    "winner = ' '\n",
    "\n",
    "# create specialized candidateDictionary with vote count and percentage\n",
    "candidateDict = {}"
   ]
  },
  {
   "cell_type": "code",
   "execution_count": 3,
   "id": "c3c930f6",
   "metadata": {},
   "outputs": [
    {
     "name": "stdout",
     "output_type": "stream",
     "text": [
      "CSV Header: ['Ballot ID', 'County', 'Candidate']\n",
      "{'Charles Casper Stockham': [85213, 0], 'Diana DeGette': [272892, 0], 'Raymon Anthony Doane': [11606, 0]}\n"
     ]
    }
   ],
   "source": [
    "# open the csv\n",
    "with open(csvpath, encoding='utf') as csvfile:\n",
    "    csvreader = csv.reader(csvfile, delimiter=',')\n",
    "    \n",
    "    # read in header row first\n",
    "    csvHeader = next(csvreader)\n",
    "    print(f'CSV Header: {csvHeader}')\n",
    "\n",
    "    # read each row of data and do the stuff\n",
    "    for row in csvreader:\n",
    "        \n",
    "        # add one to total votes\n",
    "        Total_Votes += 1\n",
    "\n",
    "        # if candidate not in candidateDict, add them and start counting\n",
    "        # if candidate IS IN candidateDict add to candidate's vote total\n",
    "        if row[2] in candidateDict:\n",
    "            candidateDict[row[2]][0] += 1\n",
    "        else:\n",
    "            candidateDict.setdefault(row[2], [0, 0])\n",
    "            candidateDict[row[2]][0] += 1\n",
    "            \n",
    "#Print for testing. \n",
    "print(candidateDict)\n",
    "        \n",
    "      "
   ]
  },
  {
   "cell_type": "code",
   "execution_count": 4,
   "id": "7c079902",
   "metadata": {},
   "outputs": [
    {
     "name": "stdout",
     "output_type": "stream",
     "text": [
      "{'Charles Casper Stockham': [85213, 23.049], 'Diana DeGette': [272892, 73.812], 'Raymon Anthony Doane': [11606, 3.139]}\n",
      "Diana DeGette\n"
     ]
    }
   ],
   "source": [
    "# calculate percentage and add it to second value of candidate's key in candidateDict\n",
    "for key in candidateDict:\n",
    "    candidateDict[key][1] = round(((candidateDict[key][0]/Total_Votes)*100),3)\n",
    "    \n",
    "#Print for testing. \n",
    "print(candidateDict)\n",
    "\n",
    "#Decide the winner. \n",
    "winner = max(candidateDict, key=candidateDict.get)\n",
    "print(winner)"
   ]
  },
  {
   "cell_type": "code",
   "execution_count": 5,
   "id": "38152370",
   "metadata": {},
   "outputs": [],
   "source": [
    "# WRITING NEW CSV FILE\n",
    "outputPath = os.path.join('analysis', 'Pypoll_Results.txt')\n",
    "\n",
    "#Open the file. \n",
    "with open(outputPath, 'w') as textfile:\n",
    "    writer = csv.writer(textfile)\n",
    "    \n",
    "    #Write header row.\n",
    "    writer.writerow([\"Election Results\"])\n",
    "    \n",
    "    #Write the rest of the rows.\n",
    "    writer.writerow([\"----------------------------------\"])\n",
    "    writer.writerow([f'Total Votes:  (Total_Votes)'])\n",
    "    writer.writerow([\"----------------------------------\"])\n",
    "    for key, val1, in candidateDict.items():\n",
    "        writer.writerow([f'{key}:  {val1[1]}% ({val1[0]})'])\n",
    "    writer.writerow([\"-----------------------------------\"])\n",
    "    writer.writerow([f'Winner:  {winner}'])\n",
    "    writer.writerow([\"-----------------------------------\"])"
   ]
  },
  {
   "cell_type": "code",
   "execution_count": 6,
   "id": "8a865489",
   "metadata": {},
   "outputs": [
    {
     "name": "stdout",
     "output_type": "stream",
     "text": [
      "Election Results\n",
      "---------------------------\n",
      "Total Votes: 369711\n",
      "---------------------------\n",
      "Charles Casper Stockham:  23.049% (85213)\n",
      "Diana DeGette:  73.812% (272892)\n",
      "Raymon Anthony Doane:  3.139% (11606)\n",
      "Winner: Diana DeGette\n"
     ]
    }
   ],
   "source": [
    "#Print the results to terminal.\n",
    "\n",
    "print(\"Election Results\")\n",
    "print(\"---------------------------\")\n",
    "print(f'Total Votes: {Total_Votes}')\n",
    "print(\"---------------------------\")\n",
    "for key, val1, in candidateDict.items():\n",
    "    print(f'{key}:  {val1[1]}% ({val1[0]})')\n",
    "print(f'Winner: {winner}')\n"
   ]
  },
  {
   "cell_type": "code",
   "execution_count": null,
   "id": "cfec83c7",
   "metadata": {},
   "outputs": [],
   "source": []
  }
 ],
 "metadata": {
  "kernelspec": {
   "display_name": "Python 3 (ipykernel)",
   "language": "python",
   "name": "python3"
  },
  "language_info": {
   "codemirror_mode": {
    "name": "ipython",
    "version": 3
   },
   "file_extension": ".py",
   "mimetype": "text/x-python",
   "name": "python",
   "nbconvert_exporter": "python",
   "pygments_lexer": "ipython3",
   "version": "3.7.7"
  }
 },
 "nbformat": 4,
 "nbformat_minor": 5
}
